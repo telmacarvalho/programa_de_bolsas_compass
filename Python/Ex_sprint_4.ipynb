{
 "cells": [
  {
   "attachments": {},
   "cell_type": "markdown",
   "metadata": {},
   "source": [
    "# Exercícios da Seção 2"
   ]
  },
  {
   "attachments": {},
   "cell_type": "markdown",
   "metadata": {},
   "source": [
    "## Exercício de programação 1: E1"
   ]
  },
  {
   "attachments": {},
   "cell_type": "markdown",
   "metadata": {},
   "source": [
    "Você está recebendo um arquivo contendo 10.000 números inteiros, um em cada linha. Utilizando lambdas e high order functions, apresente os 5 maiores valores pares e a soma destes.\n",
    "Você deverá aplicar as seguintes funções no exercício:\n",
    "- map\n",
    "- filter\n",
    "- sorted\n",
    "- sum\n",
    "\n",
    "Seu código deverá exibir na saída (simplesmente utilizando 2 comandos `print()`):\n",
    "\n",
    "- a lista dos 5 maiores números pares em ordem decrescente;\n",
    "- a soma destes valores."
   ]
  },
  {
   "cell_type": "code",
   "execution_count": 1,
   "metadata": {},
   "outputs": [
    {
     "name": "stdout",
     "output_type": "stream",
     "text": [
      "[8000, 7998, 7996, 7994, 7994]\n",
      "39982\n"
     ]
    }
   ],
   "source": [
    "with open('number.txt','r') as file:\n",
    "    data = file.read().splitlines()\n",
    "\n",
    "converted_numbers = list(map(lambda x: int(x), data))\n",
    "   \n",
    "def top_5_even(list):\n",
    "    pairs_numbers = filter(lambda x: (x % 2) == 0, list)\n",
    "    decreasing_numbers = sorted(pairs_numbers, reverse=True)\n",
    "    return decreasing_numbers[:5]\n",
    "\n",
    "result = top_5_even(converted_numbers)\n",
    "sum_result = sum(result)\n",
    "\n",
    "print(result)\n",
    "print(sum_result)"
   ]
  },
  {
   "attachments": {},
   "cell_type": "markdown",
   "metadata": {},
   "source": [
    "## Exercício de programação 2: E2"
   ]
  },
  {
   "attachments": {},
   "cell_type": "markdown",
   "metadata": {},
   "source": [
    "Utilizando high order functions, implemente o corpo da função conta_vogais. O parâmetro de entrada será uma string e o resultado deverá ser a contagem de vogais presentes em seu conteúdo.\n",
    "\n",
    "É obrigatório aplicar as seguintes funções:\n",
    "\n",
    "- len\n",
    "- filter\n",
    "- lambda\n",
    "\n",
    "Desconsidere os caracteres acentuados. Eles não serão utilizados nos testes do seu código."
   ]
  },
  {
   "cell_type": "code",
   "execution_count": 33,
   "metadata": {},
   "outputs": [
    {
     "name": "stdout",
     "output_type": "stream",
     "text": [
      "14\n"
     ]
    }
   ],
   "source": [
    "def conta_vogais(texto:str)-> int:\n",
    "    vogais = list(filter(lambda x: x if x.lower() == 'a' or x.lower() == 'e' or x.lower() == 'i' or x.lower() == 'o' or x.lower() == 'u' else None, texto))\n",
    "    contagem = len(vogais)\n",
    "    return contagem\n",
    "\n",
    "resultado = conta_vogais('Ola mundo, este e um importante teste')\n",
    "print(resultado)\n"
   ]
  }
 ],
 "metadata": {
  "kernelspec": {
   "display_name": "Python 3",
   "language": "python",
   "name": "python3"
  },
  "language_info": {
   "codemirror_mode": {
    "name": "ipython",
    "version": 3
   },
   "file_extension": ".py",
   "mimetype": "text/x-python",
   "name": "python",
   "nbconvert_exporter": "python",
   "pygments_lexer": "ipython3",
   "version": "3.10.7"
  },
  "orig_nbformat": 4,
  "vscode": {
   "interpreter": {
    "hash": "916dbcbb3f70747c44a77c7bcd40155683ae19c65e1c03b4aa3499c5328201f1"
   }
  }
 },
 "nbformat": 4,
 "nbformat_minor": 2
}
