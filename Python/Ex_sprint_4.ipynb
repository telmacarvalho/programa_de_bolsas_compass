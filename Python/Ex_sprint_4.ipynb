{
 "cells": [
  {
   "attachments": {},
   "cell_type": "markdown",
   "metadata": {},
   "source": [
    "# Exercícios da Seção 2"
   ]
  },
  {
   "attachments": {},
   "cell_type": "markdown",
   "metadata": {},
   "source": [
    "## Exercício de programação 1: E1"
   ]
  },
  {
   "attachments": {},
   "cell_type": "markdown",
   "metadata": {},
   "source": [
    "Você está recebendo um arquivo contendo 10.000 números inteiros, um em cada linha. Utilizando **lambdas** e **high order functions**, apresente os 5 maiores valores pares e a soma destes.\n",
    "Você deverá aplicar as seguintes funções no exercício:\n",
    "\n",
    "- **map**\n",
    "- **filter**\n",
    "- **sorted**\n",
    "- **sum**\n",
    "\n",
    "Seu código deverá exibir na saída (simplesmente utilizando 2 comandos `print()`):\n",
    "\n",
    "- a lista dos 5 maiores números pares em ordem decrescente;\n",
    "- a soma destes valores."
   ]
  },
  {
   "cell_type": "code",
   "execution_count": 1,
   "metadata": {},
   "outputs": [
    {
     "name": "stdout",
     "output_type": "stream",
     "text": [
      "[8000, 7998, 7996, 7994, 7994]\n",
      "39982\n"
     ]
    }
   ],
   "source": [
    "with open('number.txt','r') as file:\n",
    "    data = file.read().splitlines()\n",
    "\n",
    "converted_numbers = list(map(lambda x: int(x), data))\n",
    "   \n",
    "def top_5_even(list):\n",
    "    pairs_numbers = filter(lambda x: (x % 2) == 0, list)\n",
    "    decreasing_numbers = sorted(pairs_numbers, reverse=True)\n",
    "    return decreasing_numbers[:5]\n",
    "\n",
    "result = top_5_even(converted_numbers)\n",
    "sum_result = sum(result)\n",
    "\n",
    "print(result)\n",
    "print(sum_result)"
   ]
  },
  {
   "attachments": {},
   "cell_type": "markdown",
   "metadata": {},
   "source": [
    "## Exercício de programação 2: E2"
   ]
  },
  {
   "attachments": {},
   "cell_type": "markdown",
   "metadata": {},
   "source": [
    "Utilizando high order functions, implemente o corpo da função conta_vogais. O parâmetro de entrada será uma string e o resultado deverá ser a contagem de vogais presentes em seu conteúdo.\n",
    "\n",
    "É obrigatório aplicar as seguintes funções:\n",
    "\n",
    "- **len**\n",
    "- **filter**\n",
    "- **lambda**\n",
    "\n",
    "Desconsidere os caracteres acentuados. Eles não serão utilizados nos testes do seu código."
   ]
  },
  {
   "cell_type": "code",
   "execution_count": 51,
   "metadata": {},
   "outputs": [
    {
     "name": "stdout",
     "output_type": "stream",
     "text": [
      "14\n"
     ]
    }
   ],
   "source": [
    "def conta_vogais(texto:str)-> int:\n",
    "    vowels = ['a', 'e', 'i', 'o', 'u']\n",
    "    inspection = list(filter(lambda x: x.lower() in vowels, texto))\n",
    "    count = len(inspection)\n",
    "    return count\n",
    "\n",
    "result = conta_vogais('Ola mundo, este e um importante teste')\n",
    "print(result)\n"
   ]
  },
  {
   "attachments": {},
   "cell_type": "markdown",
   "metadata": {},
   "source": [
    "## Exercício de programação 3: E3"
   ]
  },
  {
   "attachments": {},
   "cell_type": "markdown",
   "metadata": {},
   "source": [
    "A função calcula_saldo recebe uma lista de tuplas, correspondendo a um conjunto de lançamentos bancários. Cada lançamento é composto pelo seu valor (sempre positivo) e pelo seu tipo (C - crédito ou D - débito). \n",
    "\n",
    "Abaixo apresentando uma possível entrada para a função.\n",
    "\n",
    "```\n",
    "lancamentos = [\n",
    "    (200,'D'),\n",
    "    (300,'C'),\n",
    "    (100,'C')\n",
    "]\n",
    "```\n",
    "\n",
    "A partir dos lançamentos, a função deve calcular o valor final, somando créditos e subtraindo débitos. Na lista anterior, por exemplo, teríamos como resultado final **200**.\n",
    "Além de utilizar lambdas, você deverá aplicar, obrigatoriamente, as seguintes funções na resolução:\n",
    "\n",
    "- **reduce** (módulo functools)\n",
    "- **map**"
   ]
  },
  {
   "cell_type": "code",
   "execution_count": 65,
   "metadata": {},
   "outputs": [
    {
     "name": "stdout",
     "output_type": "stream",
     "text": [
      "200\n"
     ]
    }
   ],
   "source": [
    "from functools import reduce\n",
    "\n",
    "def calcula_saldo(lancamentos) -> float:\n",
    "    sign_rule = map(lambda x: x[0]*(-1) if x[1] == 'D' else x[0], lancamentos)\n",
    "    balance = reduce(lambda x, y : x + y,sign_rule)\n",
    "    return balance\n",
    "\n",
    "lancamentos = [\n",
    "    (200,'D'),\n",
    "    (300,'C'),\n",
    "    (100,'C')\n",
    "]\n",
    "\n",
    "result = print(calcula_saldo(lancamentos))\n"
   ]
  },
  {
   "attachments": {},
   "cell_type": "markdown",
   "metadata": {},
   "source": [
    "## Exercício de programação 4: E4"
   ]
  },
  {
   "attachments": {},
   "cell_type": "markdown",
   "metadata": {},
   "source": [
    "A função calcular_valor_maximo deve receber dois parâmetros, chamados de operadores e operandos. Em operadores, espera-se uma lista de caracteres que representam as operações matemáticas suportadas (+, -, /, *, %), as quais devem ser aplicadas à lista de operadores nas respectivas posições. Após aplicar cada operação ao respectivo par de operandos, a função deverá retornar o maior valor dentre eles.\n",
    "\n",
    "Veja o exemplo:\n",
    "\n",
    "- Entrada\n",
    "    operadores = ['+','-','*','/','+']\n",
    "    operandos  = [(3,6), (-7,4.9), (8,-8), (10,2), (8,4)]\n",
    "\n",
    "\n",
    "- Aplicar as operações aos pares de operandos\n",
    "    [ 3+6 , -7-4.9, 8*-8 , 10/2 , 8+4 ] \n",
    "\n",
    "- Obter o maior dos valores\n",
    "    12\n",
    "\n",
    "\n",
    "Na resolução da atividade você deverá aplicar as seguintes funções:\n",
    "\n",
    "- **max**\n",
    "- **zip**\n",
    "- **map**"
   ]
  },
  {
   "cell_type": "code",
   "execution_count": 107,
   "metadata": {},
   "outputs": [
    {
     "name": "stdout",
     "output_type": "stream",
     "text": [
      "12\n"
     ]
    }
   ],
   "source": [
    "def calcular_valor_maximo(operadores,operandos) -> float:\n",
    "    combination = list(zip(operadores, operandos))\n",
    "    signal_conversion = {\n",
    "    '+': lambda x, y: x + y,\n",
    "    '-': lambda x, y : x - y,\n",
    "    '*': lambda x, y : x * y,\n",
    "    '/': lambda x, y : x / y\n",
    "    }\n",
    "\n",
    "    # Percorre a lista \"combination\" verificando se o operador \"x[0]\" encontra-se no dicionário \"signal_conversion\".\n",
    "    # Em caso positivo, aplica função do operador presente em \"signal_conversion\" nos operandos \"x[1][0],x[1][1]\", \n",
    "    # armazenando o resultado como lista.\n",
    "    operation = list(map(lambda x: signal_conversion[x[0]](x[1][0],x[1][1]) if x[0] in signal_conversion else 0, combination))\n",
    "    maximum_value = max(operation)\n",
    "\n",
    "    return maximum_value\n",
    "    \n",
    "\n",
    "operadores = ['+','-','*','/','+']\n",
    "operandos  = [(3,6), (-7,4.9), (8,-8), (10,2), (8,4)]\n",
    "\n",
    "result = calcular_valor_maximo(operadores, operandos)\n",
    "print(result)\n"
   ]
  },
  {
   "cell_type": "code",
   "execution_count": 113,
   "metadata": {},
   "outputs": [
    {
     "ename": "SyntaxError",
     "evalue": "invalid syntax. Perhaps you forgot a comma? (4264691241.py, line 3)",
     "output_type": "error",
     "traceback": [
      "\u001b[0;36m  Cell \u001b[0;32mIn[113], line 3\u001b[0;36m\u001b[0m\n\u001b[0;31m    operation = list(map(lambda x: eval(x[1][0] 'x[0]' x[1][1]),combination))\u001b[0m\n\u001b[0m                                        ^\u001b[0m\n\u001b[0;31mSyntaxError\u001b[0m\u001b[0;31m:\u001b[0m invalid syntax. Perhaps you forgot a comma?\n"
     ]
    }
   ],
   "source": [
    "def calcular_valor_maximo(operadores,operandos) -> float:\n",
    "    combination = list(zip(operadores, operandos))\n",
    "    operation = list(map(lambda x: eval(f'{x[1][0]} {x[0]} {x[1][1]}'),combination))\n",
    "    maximum_value = max(operation)\n",
    "\n",
    "    return maximum_value\n",
    "    \n",
    "\n",
    "operadores = ['+','-','*','/','+']\n",
    "operandos  = [(3,6), (-7,4.9), (8,-8), (10,2), (8,4)]\n",
    "\n",
    "result = calcular_valor_maximo(operadores, operandos)\n",
    "print(result)\n"
   ]
  },
  {
   "cell_type": "markdown",
   "metadata": {},
   "source": []
  }
 ],
 "metadata": {
  "kernelspec": {
   "display_name": "Python 3",
   "language": "python",
   "name": "python3"
  },
  "language_info": {
   "codemirror_mode": {
    "name": "ipython",
    "version": 3
   },
   "file_extension": ".py",
   "mimetype": "text/x-python",
   "name": "python",
   "nbconvert_exporter": "python",
   "pygments_lexer": "ipython3",
   "version": "3.10.7"
  },
  "orig_nbformat": 4,
  "vscode": {
   "interpreter": {
    "hash": "916dbcbb3f70747c44a77c7bcd40155683ae19c65e1c03b4aa3499c5328201f1"
   }
  }
 },
 "nbformat": 4,
 "nbformat_minor": 2
}
