{
 "cells": [
  {
   "attachments": {},
   "cell_type": "markdown",
   "metadata": {},
   "source": [
    "# Exercícios da Seção 2"
   ]
  },
  {
   "attachments": {},
   "cell_type": "markdown",
   "metadata": {},
   "source": [
    "## Exercício de programação 1: E1"
   ]
  },
  {
   "attachments": {},
   "cell_type": "markdown",
   "metadata": {},
   "source": [
    "Você está recebendo um arquivo contendo 10.000 números inteiros, um em cada linha. Utilizando lambdas e high order functions, apresente os 5 maiores valores pares e a soma destes.\n",
    "Você deverá aplicar as seguintes funções no exercício:\n",
    "- map\n",
    "- filter\n",
    "- sorted\n",
    "- sum"
   ]
  },
  {
   "cell_type": "code",
   "execution_count": 7,
   "metadata": {},
   "outputs": [
    {
     "name": "stdout",
     "output_type": "stream",
     "text": [
      "<class 'str'>\n",
      "<class 'int'>\n"
     ]
    }
   ],
   "source": [
    "with open('number.txt','r') as arquivo:\n",
    "    lista = arquivo.read().splitlines()\n",
    "\n",
    "print(type(lista[0]))\n",
    "\n",
    "coverted_numbers = list(map(lambda x: int(x), lista))\n",
    "\n",
    "print(type(coverted_numbers[0]))\n",
    "\n",
    "\n",
    "# def biggest(valor):\n",
    "#     while valor (ordered_number.index) < 5:\n",
    "#         return True\n",
    "    \n",
    "\n",
    "# def calculo(funcao, valor):\n",
    "#     pairs_numbers = map(lambda x: x if (x % 2) == 0,lista)\n",
    "#     ordered_numbers = sorted(pairs_numbers)\n",
    "#     five_biggest = filter(maiores,)\n",
    "\n",
    "\n",
    "# def pares(valor):\n",
    "#     if (valor % 2) == 0:\n",
    "#         return True\n",
    "#     else:\n",
    "#         return False\n",
    "\n",
    "# def calculo(funcao, valor):\n",
    "#     pairs_number = filter(pares, lista)\n",
    "#     ordenacao = sorted(pairs_number, reverse=True)\n",
    "#     map(lambda x: x if )\n",
    "#     return\n",
    "\n",
    "\n",
    "\n",
    "# ordenacao = lambda x: sorted(x, reverse=True)\n",
    "\n",
    "\n",
    "# list(map(ordenacao,lista))"
   ]
  },
  {
   "cell_type": "code",
   "execution_count": null,
   "metadata": {},
   "outputs": [],
   "source": []
  }
 ],
 "metadata": {
  "kernelspec": {
   "display_name": "Python 3",
   "language": "python",
   "name": "python3"
  },
  "language_info": {
   "codemirror_mode": {
    "name": "ipython",
    "version": 3
   },
   "file_extension": ".py",
   "mimetype": "text/x-python",
   "name": "python",
   "nbconvert_exporter": "python",
   "pygments_lexer": "ipython3",
   "version": "3.10.7"
  },
  "orig_nbformat": 4,
  "vscode": {
   "interpreter": {
    "hash": "916dbcbb3f70747c44a77c7bcd40155683ae19c65e1c03b4aa3499c5328201f1"
   }
  }
 },
 "nbformat": 4,
 "nbformat_minor": 2
}
