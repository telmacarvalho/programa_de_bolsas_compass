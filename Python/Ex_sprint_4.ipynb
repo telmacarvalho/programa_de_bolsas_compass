{
 "cells": [
  {
   "attachments": {},
   "cell_type": "markdown",
   "metadata": {},
   "source": [
    "# Exercícios da Seção 2"
   ]
  },
  {
   "attachments": {},
   "cell_type": "markdown",
   "metadata": {},
   "source": [
    "## Exercício de programação 1: E1"
   ]
  },
  {
   "attachments": {},
   "cell_type": "markdown",
   "metadata": {},
   "source": [
    "Você está recebendo um arquivo contendo 10.000 números inteiros, um em cada linha. Utilizando **lambdas** e **high order functions**, apresente os 5 maiores valores pares e a soma destes.\n",
    "Você deverá aplicar as seguintes funções no exercício:\n",
    "\n",
    "- **map**\n",
    "- **filter**\n",
    "- **sorted**\n",
    "- **sum**\n",
    "\n",
    "Seu código deverá exibir na saída (simplesmente utilizando 2 comandos `print()`):\n",
    "\n",
    "- a lista dos 5 maiores números pares em ordem decrescente;\n",
    "- a soma destes valores."
   ]
  },
  {
   "cell_type": "code",
   "execution_count": 184,
   "metadata": {},
   "outputs": [
    {
     "name": "stdout",
     "output_type": "stream",
     "text": [
      "[8000, 7998, 7996, 7994, 7994]\n",
      "39982\n"
     ]
    }
   ],
   "source": [
    "with open('number.txt','r') as file:\n",
    "    data = file.read().splitlines()\n",
    "\n",
    "converted_numbers = map(lambda x: int(x), data)\n",
    "   \n",
    "def top_5_even(list):\n",
    "    pairs_numbers = filter(lambda x: (x % 2) == 0, list)\n",
    "    decreasing_numbers = sorted(pairs_numbers, reverse=True)\n",
    "    return decreasing_numbers[:5]\n",
    "\n",
    "result = top_5_even(converted_numbers)\n",
    "sum_result = sum(result)\n",
    "\n",
    "print(result)\n",
    "print(sum_result)"
   ]
  },
  {
   "attachments": {},
   "cell_type": "markdown",
   "metadata": {},
   "source": [
    "## Exercício de programação 2: E2"
   ]
  },
  {
   "attachments": {},
   "cell_type": "markdown",
   "metadata": {},
   "source": [
    "Utilizando high order functions, implemente o corpo da função conta_vogais. O parâmetro de entrada será uma string e o resultado deverá ser a contagem de vogais presentes em seu conteúdo.\n",
    "\n",
    "É obrigatório aplicar as seguintes funções:\n",
    "\n",
    "- **len**\n",
    "- **filter**\n",
    "- **lambda**\n",
    "\n",
    "Desconsidere os caracteres acentuados. Eles não serão utilizados nos testes do seu código."
   ]
  },
  {
   "cell_type": "code",
   "execution_count": 51,
   "metadata": {},
   "outputs": [
    {
     "name": "stdout",
     "output_type": "stream",
     "text": [
      "14\n"
     ]
    }
   ],
   "source": [
    "def conta_vogais(texto:str)-> int:\n",
    "    vowels = ['a', 'e', 'i', 'o', 'u']\n",
    "    inspection = list(filter(lambda x: x.lower() in vowels, texto))\n",
    "    count = len(inspection)\n",
    "    return count\n",
    "\n",
    "result = conta_vogais('Ola mundo, este e um importante teste')\n",
    "print(result)\n"
   ]
  },
  {
   "attachments": {},
   "cell_type": "markdown",
   "metadata": {},
   "source": [
    "## Exercício de programação 3: E3"
   ]
  },
  {
   "attachments": {},
   "cell_type": "markdown",
   "metadata": {},
   "source": [
    "A função calcula_saldo recebe uma lista de tuplas, correspondendo a um conjunto de lançamentos bancários. Cada lançamento é composto pelo seu valor (sempre positivo) e pelo seu tipo (C - crédito ou D - débito). \n",
    "\n",
    "Abaixo apresentando uma possível entrada para a função.\n",
    "\n",
    "```\n",
    "lancamentos = [\n",
    "    (200,'D'),\n",
    "    (300,'C'),\n",
    "    (100,'C')\n",
    "]\n",
    "```\n",
    "\n",
    "A partir dos lançamentos, a função deve calcular o valor final, somando créditos e subtraindo débitos. Na lista anterior, por exemplo, teríamos como resultado final **200**.\n",
    "Além de utilizar lambdas, você deverá aplicar, obrigatoriamente, as seguintes funções na resolução:\n",
    "\n",
    "- **reduce** (módulo functools)\n",
    "- **map**"
   ]
  },
  {
   "cell_type": "code",
   "execution_count": 115,
   "metadata": {},
   "outputs": [
    {
     "name": "stdout",
     "output_type": "stream",
     "text": [
      "200\n"
     ]
    }
   ],
   "source": [
    "from functools import reduce\n",
    "\n",
    "def calcula_saldo(lancamentos) -> float:\n",
    "    sign_rule = map(lambda x: x[0]*(-1) if x[1] == 'D' else x[0], lancamentos)\n",
    "    balance = reduce(lambda x, y : x + y,sign_rule)\n",
    "    return balance\n",
    "\n",
    "lancamentos = [\n",
    "    (200,'D'),\n",
    "    (300,'C'),\n",
    "    (100,'C')\n",
    "]\n",
    "\n",
    "result = calcula_saldo(lancamentos)\n",
    "print(result)\n"
   ]
  },
  {
   "attachments": {},
   "cell_type": "markdown",
   "metadata": {},
   "source": [
    "## Exercício de programação 4: E4"
   ]
  },
  {
   "attachments": {},
   "cell_type": "markdown",
   "metadata": {},
   "source": [
    "A função calcular_valor_maximo deve receber dois parâmetros, chamados de operadores e operandos. Em operadores, espera-se uma lista de caracteres que representam as operações matemáticas suportadas (+, -, /, *, %), as quais devem ser aplicadas à lista de operadores nas respectivas posições. Após aplicar cada operação ao respectivo par de operandos, a função deverá retornar o maior valor dentre eles.\n",
    "\n",
    "Veja o exemplo:\n",
    "\n",
    "- Entrada\n",
    "    operadores = ['+','-','*','/','+']\n",
    "    operandos  = [(3,6), (-7,4.9), (8,-8), (10,2), (8,4)]\n",
    "\n",
    "\n",
    "- Aplicar as operações aos pares de operandos\n",
    "    [ 3+6 , -7-4.9, 8*-8 , 10/2 , 8+4 ] \n",
    "\n",
    "- Obter o maior dos valores\n",
    "    12\n",
    "\n",
    "\n",
    "Na resolução da atividade você deverá aplicar as seguintes funções:\n",
    "\n",
    "- **max**\n",
    "- **zip**\n",
    "- **map**"
   ]
  },
  {
   "attachments": {},
   "cell_type": "markdown",
   "metadata": {},
   "source": [
    "### Primeiro script (*enviado via Udemy*)\n",
    "Mais extenso e mais seguro"
   ]
  },
  {
   "cell_type": "code",
   "execution_count": 143,
   "metadata": {},
   "outputs": [
    {
     "name": "stdout",
     "output_type": "stream",
     "text": [
      "12\n"
     ]
    }
   ],
   "source": [
    "def calcular_valor_maximo(operadores,operandos) -> float:\n",
    "\n",
    "    def calculation(operator, numbers):\n",
    "        n1, n2 = numbers\n",
    "        signal_conversion = {\n",
    "        '+': lambda x, y: x + y,\n",
    "        '-': lambda x, y : x - y,\n",
    "        '*': lambda x, y : x * y,\n",
    "        '/': lambda x, y : x / y,\n",
    "        '%': lambda x, y : x % y\n",
    "        }\n",
    "        return signal_conversion[operator](n1, n2)\n",
    "\n",
    "    combination = zip(operadores, operandos)\n",
    "    operation = map(lambda x: calculation(*x), combination)\n",
    "    maximum_value = max(operation)\n",
    "\n",
    "    return maximum_value\n",
    "    \n",
    "\n",
    "operadores = ['+','-','*','/','+']\n",
    "operandos  = [(3,6), (-7,4.9), (8,-8), (10,2), (8,4)]\n",
    "\n",
    "result = calcular_valor_maximo(operadores, operandos)\n",
    "print(result)"
   ]
  },
  {
   "attachments": {},
   "cell_type": "markdown",
   "metadata": {},
   "source": [
    "### Segundo script\n",
    "Mais enxuto mas não é seguro"
   ]
  },
  {
   "cell_type": "code",
   "execution_count": 146,
   "metadata": {},
   "outputs": [
    {
     "name": "stdout",
     "output_type": "stream",
     "text": [
      "12\n"
     ]
    }
   ],
   "source": [
    "def calcular_valor_maximo(operadores,operandos) -> float:\n",
    "    combination = zip(operadores, operandos)\n",
    "    # Percorre a lista \"combination\", executando o operador \"x[0]\" entre os operandos \"x[1][0]\" e \"x[1][1]\"\n",
    "    # Atenção: uso do \"eval()\" não é seguro! Usado aqui apenas para fins didáticos\n",
    "    operation = map(lambda x: eval(f'{x[1][0]} {x[0]} {x[1][1]}'), combination)\n",
    "    maximum_value = max(operation)\n",
    "\n",
    "    return maximum_value\n",
    "    \n",
    "\n",
    "operadores = ['+','-','*','/','+']\n",
    "operandos  = [(3,6), (-7,4.9), (8,-8), (10,2), (8,4)]\n",
    "\n",
    "result = calcular_valor_maximo(operadores, operandos)\n",
    "print(result)"
   ]
  },
  {
   "attachments": {},
   "cell_type": "markdown",
   "metadata": {},
   "source": [
    "### Terceiro script (*não foi aceito via Udemy*)\n",
    "Valida as entradas do script anterior para deixar mais seguro"
   ]
  },
  {
   "cell_type": "code",
   "execution_count": 178,
   "metadata": {},
   "outputs": [
    {
     "name": "stdout",
     "output_type": "stream",
     "text": [
      "12\n"
     ]
    }
   ],
   "source": [
    "def calcular_valor_maximo(operadores,operandos) -> float:\n",
    "\n",
    "    # Valida se a lista de operadores está dentro das operações esperadas para ser executada com segurança pelo \"eval()\"\n",
    "    validation = ['+','-','*','/','%']\n",
    "    a = list(filter(lambda x: x not in validation, operadores))\n",
    "    if len(a) >= 1:\n",
    "        raise ValueError('Invalid operator detected')\n",
    "\n",
    "    # Valida se a lista de operandos é composta apenas por números\n",
    "    is_not_number = lambda x: type(x) not in (int,float)\n",
    "    b = list(filter(lambda x: is_not_number(x[0]) or is_not_number(x[1]), operandos))\n",
    "    if len(b) >= 1:\n",
    "        raise ValueError('Invalid operating detected')\n",
    "    \n",
    "    combination = zip(operadores, operandos)\n",
    "    # Percorre a lista \"combination\", executando o operador \"x[0]\" entre os operandos \"x[1][0]\" e \"x[1][1]\"\n",
    "    operation = map(lambda x: eval(f'{x[1][0]} {x[0]} {x[1][1]}'), combination)\n",
    "    maximum_value = max(operation)\n",
    "\n",
    "    return maximum_value\n",
    "    \n",
    "\n",
    "operadores = ['+','-','*','/','+']\n",
    "operandos  = [(3,6), (-7,4.9), (8,-8), (10,2), (8,4)]\n",
    "\n",
    "result = calcular_valor_maximo(operadores, operandos)\n",
    "print(result)"
   ]
  },
  {
   "attachments": {},
   "cell_type": "markdown",
   "metadata": {},
   "source": [
    "## Exercício de programação 5: E5"
   ]
  },
  {
   "attachments": {},
   "cell_type": "markdown",
   "metadata": {},
   "source": [
    "Um determinado sistema escolar exporta a grade de notas dos estudantes em formato CSV. Cada linha do arquivo corresponde ao nome do estudante, acompanhado de 5 notas de avaliação, no intervalo [0-10]. É o arquivo estudantes.csv de seu exercício.\n",
    "\n",
    "Precisamos processar seu conteúdo, de modo a gerar como saída um relatório em formato textual contendo as seguintes informações:\n",
    "\n",
    "- Nome do estudante\n",
    "- Três maiores notas, em ordem decrescente\n",
    "- Média das três maiores notas, com duas casas decimais de precisão\n",
    "\n",
    "O resultado do processamento deve ser escrito na saída padrão (print), ordenado pelo nome do estudante e obedecendo ao formato descrito a seguir:\n",
    "\n",
    "```\n",
    "Nome: <nome estudante> Notas: [n1, n2, n3] Média: <média>\n",
    "```\n",
    "\n",
    "Exemplo:\n",
    "\n",
    "*Nome: Maria Luiza Correia Notas: [7, 5, 5] Média: 5.67*\\\n",
    "*Nome: Maria Mendes Notas: [7, 3, 3] Média: 4.33*\n",
    "\n",
    "Em seu desenvolvimento você deverá utilizar lambdas e as seguintes funções:\n",
    "\n",
    "- round\n",
    "- map\n",
    "- sorted"
   ]
  },
  {
   "cell_type": "code",
   "execution_count": 36,
   "metadata": {},
   "outputs": [
    {
     "name": "stdout",
     "output_type": "stream",
     "text": [
      "[6.0, 6.0, 5.0, 4.0, 2.0]\n",
      "[10.0, 9.0, 6.0, 3.0, 1.0]\n",
      "[9.0, 9.0, 7.0, 6.0, 4.0]\n",
      "[9.0, 7.0, 3.0, 2.0, 1.0]\n",
      "[7.0, 6.0, 6.0, 4.0, 3.0]\n",
      "[10.0, 10.0, 9.0, 4.0, 2.0]\n",
      "[10.0, 10.0, 6.0, 5.0, 3.0]\n",
      "[6.0, 5.0, 5.0, 5.0, 2.0]\n",
      "[6.0, 4.0, 3.0, 2.0, 1.0]\n",
      "[6.0, 4.0, 4.0, 2.0, 1.0]\n",
      "[10.0, 5.0, 5.0, 3.0, 1.0]\n",
      "[10.0, 6.0, 5.0, 2.0, 2.0]\n",
      "[8.0, 6.0, 5.0, 5.0, 5.0]\n",
      "[9.0, 4.0, 4.0, 4.0, 2.0]\n",
      "[10.0, 9.0, 6.0, 2.0, 2.0]\n",
      "[7.0, 3.0, 3.0, 2.0, 1.0]\n",
      "[5.0, 5.0, 3.0, 1.0, 1.0]\n",
      "[7.0, 7.0, 4.0, 4.0, 1.0]\n",
      "[9.0, 8.0, 8.0, 6.0, 3.0]\n",
      "[10.0, 4.0, 3.0, 2.0, 1.0]\n",
      "[10.0, 9.0, 2.0, 2.0, 1.0]\n",
      "[9.0, 8.0, 8.0, 6.0, 2.0]\n",
      "[10.0, 10.0, 8.0, 7.0, 2.0]\n",
      "[10.0, 10.0, 9.0, 7.0, 4.0]\n",
      "[9.0, 8.0, 5.0, 4.0, 4.0]\n",
      "[5.0, 5.0, 5.0, 4.0, 3.0]\n",
      "[7.0, 5.0, 5.0, 2.0, 1.0]\n",
      "[10.0, 10.0, 3.0, 2.0, 1.0]\n",
      "[7.0, 5.0, 4.0, 4.0, 1.0]\n",
      "[10.0, 5.0, 3.0, 2.0, 1.0]\n",
      "[6.0, 5.0, 3.0, 1.0, 1.0]\n",
      "[10.0, 8.0, 8.0, 2.0, 1.0]\n",
      "[8.0, 3.0, 3.0, 2.0, 1.0]\n",
      "[10.0, 8.0, 7.0, 6.0, 2.0]\n",
      "[3.0, 3.0, 2.0, 2.0, 2.0]\n",
      "[5.0, 3.0, 3.0, 1.0, 1.0]\n",
      "[9.0, 6.0, 4.0, 2.0, 1.0]\n",
      "[7.0, 5.0, 5.0, 3.0, 2.0]\n",
      "[10.0, 7.0, 5.0, 4.0, 2.0]\n",
      "[10.0, 10.0, 8.0, 6.0, 3.0]\n"
     ]
    }
   ],
   "source": [
    "import csv\n",
    "\n",
    "with open('Estudantes.csv', 'r') as file:\n",
    "    data = list(csv.reader(file))\n",
    "    # print(list(data))\n",
    "\n",
    "class Student:\n",
    "    def __init__(self, name, grades):\n",
    "        self.name = name\n",
    "        self.grades = grades\n",
    "        \n",
    "    def __str__(self):\n",
    "        return f\"{self.name}, {self.grades}\"\n",
    "\n",
    "students = map(lambda x: Student(x[0], list(map(float, [x[1], x[2], x[3], x[4], x[5]]))), data)\n",
    "\n",
    "for st in students:\n",
    "    print(sorted(st.grades, reverse=True))\n"
   ]
  },
  {
   "cell_type": "code",
   "execution_count": null,
   "metadata": {},
   "outputs": [],
   "source": []
  }
 ],
 "metadata": {
  "kernelspec": {
   "display_name": "Python 3",
   "language": "python",
   "name": "python3"
  },
  "language_info": {
   "codemirror_mode": {
    "name": "ipython",
    "version": 3
   },
   "file_extension": ".py",
   "mimetype": "text/x-python",
   "name": "python",
   "nbconvert_exporter": "python",
   "pygments_lexer": "ipython3",
   "version": "3.10.7"
  },
  "orig_nbformat": 4,
  "vscode": {
   "interpreter": {
    "hash": "916dbcbb3f70747c44a77c7bcd40155683ae19c65e1c03b4aa3499c5328201f1"
   }
  }
 },
 "nbformat": 4,
 "nbformat_minor": 2
}
