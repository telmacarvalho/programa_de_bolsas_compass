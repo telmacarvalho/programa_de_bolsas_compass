{
 "cells": [
  {
   "attachments": {},
   "cell_type": "markdown",
   "metadata": {},
   "source": [
    "# Fundamentos da Estatística - Seção 3"
   ]
  },
  {
   "attachments": {},
   "cell_type": "markdown",
   "metadata": {},
   "source": [
    "## Geração de dados aleatórios"
   ]
  },
  {
   "cell_type": "code",
   "execution_count": 3,
   "metadata": {},
   "outputs": [],
   "source": [
    "import random"
   ]
  },
  {
   "cell_type": "code",
   "execution_count": 5,
   "metadata": {},
   "outputs": [],
   "source": [
    "import numpy as np"
   ]
  },
  {
   "cell_type": "code",
   "execution_count": 6,
   "metadata": {},
   "outputs": [
    {
     "name": "stdout",
     "output_type": "stream",
     "text": [
      "0.8650397988011045\n"
     ]
    }
   ],
   "source": [
    "x =  random.random()\n",
    "print(x)"
   ]
  },
  {
   "cell_type": "code",
   "execution_count": 7,
   "metadata": {},
   "outputs": [],
   "source": [
    "X = []\n",
    "for i in range(100):\n",
    "    X.append(random.random())"
   ]
  },
  {
   "cell_type": "code",
   "execution_count": 8,
   "metadata": {},
   "outputs": [
    {
     "data": {
      "text/plain": [
       "100"
      ]
     },
     "execution_count": 8,
     "metadata": {},
     "output_type": "execute_result"
    }
   ],
   "source": [
    "len(X)"
   ]
  },
  {
   "cell_type": "code",
   "execution_count": 9,
   "metadata": {},
   "outputs": [
    {
     "data": {
      "text/plain": [
       "[0.3102014319212074,\n",
       " 0.4753116494715589,\n",
       " 0.23128228635463577,\n",
       " 0.2787861982619716,\n",
       " 0.2249856402152708,\n",
       " 0.5971607837785876,\n",
       " 0.9480338266846808,\n",
       " 0.6400724864789796,\n",
       " 0.3474806186623691,\n",
       " 0.9765807919545296,\n",
       " 0.5523626512397122,\n",
       " 0.6334296181329563,\n",
       " 0.5642585697417161,\n",
       " 0.858437771276834,\n",
       " 0.1831398293580625,\n",
       " 0.6341335583719904,\n",
       " 0.7251039929413949,\n",
       " 0.7634531262412437,\n",
       " 0.4331881533256594,\n",
       " 0.7699023437335712,\n",
       " 0.3384599388458396,\n",
       " 0.2473550801648824,\n",
       " 0.5613668878341423,\n",
       " 0.9129996961389821,\n",
       " 0.13130537406048803,\n",
       " 0.44271515734257183,\n",
       " 0.5158862861244312,\n",
       " 0.46520168935465533,\n",
       " 0.5800783685968791,\n",
       " 0.6394026370955068,\n",
       " 0.9405940190473083,\n",
       " 0.5419567028316046,\n",
       " 0.9792842452893532,\n",
       " 0.16843908294470333,\n",
       " 0.3658597402735889,\n",
       " 0.2802515235025974,\n",
       " 0.23851519324503245,\n",
       " 0.5766882037639862,\n",
       " 0.5241026760172534,\n",
       " 0.5629266828604554,\n",
       " 0.2739594345688703,\n",
       " 0.760529800732938,\n",
       " 0.07819944812545021,\n",
       " 0.36283202206700216,\n",
       " 0.03108349927330789,\n",
       " 0.941817783244118,\n",
       " 0.35990682529382034,\n",
       " 0.6016950664785135,\n",
       " 0.7694673173139325,\n",
       " 0.6393975441529016,\n",
       " 0.8193430634398019,\n",
       " 0.5543582651844944,\n",
       " 0.12900731684670463,\n",
       " 0.09886491707863787,\n",
       " 0.31060422673025356,\n",
       " 0.9742238715191149,\n",
       " 0.09722494968114392,\n",
       " 0.8048264916546071,\n",
       " 0.00551306775485183,\n",
       " 0.48712195169016415,\n",
       " 0.9303620760524132,\n",
       " 0.1509377125519299,\n",
       " 0.3824410103387149,\n",
       " 0.584404181124501,\n",
       " 0.05522223064711318,\n",
       " 0.14186826343658254,\n",
       " 0.7987057725730357,\n",
       " 0.03927987359001062,\n",
       " 0.4413559315382658,\n",
       " 0.263258922874698,\n",
       " 0.27864923020782295,\n",
       " 0.3576260590747228,\n",
       " 0.08060313591880952,\n",
       " 0.9987078977557106,\n",
       " 0.7797090065604257,\n",
       " 0.7806567303638312,\n",
       " 0.05698429472939914,\n",
       " 0.6655442629810706,\n",
       " 0.3107634435100799,\n",
       " 0.4165755189547363,\n",
       " 0.47479801263036703,\n",
       " 0.9842361456945764,\n",
       " 0.610312498200876,\n",
       " 0.08736095043557424,\n",
       " 0.21396544049013055,\n",
       " 0.6020204197412402,\n",
       " 0.6882112244107282,\n",
       " 0.019140108184826365,\n",
       " 0.46865260456286517,\n",
       " 0.345976649663825,\n",
       " 0.6072904263561849,\n",
       " 0.99261471089768,\n",
       " 0.5264227537463858,\n",
       " 0.7477651720859579,\n",
       " 0.27970927168406234,\n",
       " 0.9229443545523661,\n",
       " 0.46115482724531676,\n",
       " 0.7112711982035969,\n",
       " 0.7229621957598646,\n",
       " 0.07548639615701591]"
      ]
     },
     "execution_count": 9,
     "metadata": {},
     "output_type": "execute_result"
    }
   ],
   "source": [
    "X"
   ]
  },
  {
   "cell_type": "code",
   "execution_count": 10,
   "metadata": {},
   "outputs": [],
   "source": [
    "nomes = ['Lucas', 'Marcos', 'Thiago', 'Roberto', 'Bianca', 'Erika']"
   ]
  },
  {
   "cell_type": "code",
   "execution_count": 11,
   "metadata": {},
   "outputs": [
    {
     "data": {
      "text/plain": [
       "['Lucas', 'Marcos', 'Thiago', 'Roberto', 'Bianca', 'Erika']"
      ]
     },
     "execution_count": 11,
     "metadata": {},
     "output_type": "execute_result"
    }
   ],
   "source": [
    "nomes"
   ]
  },
  {
   "cell_type": "code",
   "execution_count": 15,
   "metadata": {},
   "outputs": [
    {
     "data": {
      "text/plain": [
       "'Erika'"
      ]
     },
     "execution_count": 15,
     "metadata": {},
     "output_type": "execute_result"
    }
   ],
   "source": [
    "random.choice(nomes)"
   ]
  },
  {
   "cell_type": "code",
   "execution_count": 25,
   "metadata": {},
   "outputs": [],
   "source": [
    "random.shuffle(nomes)"
   ]
  },
  {
   "cell_type": "code",
   "execution_count": 26,
   "metadata": {},
   "outputs": [
    {
     "data": {
      "text/plain": [
       "['Thiago', 'Lucas', 'Marcos', 'Bianca', 'Erika', 'Roberto']"
      ]
     },
     "execution_count": 26,
     "metadata": {},
     "output_type": "execute_result"
    }
   ],
   "source": [
    "nomes"
   ]
  },
  {
   "cell_type": "code",
   "execution_count": 35,
   "metadata": {},
   "outputs": [
    {
     "data": {
      "text/plain": [
       "['Lucas', 'Thiago', 'Erika']"
      ]
     },
     "execution_count": 35,
     "metadata": {},
     "output_type": "execute_result"
    }
   ],
   "source": [
    "random.sample(nomes, 3)"
   ]
  }
 ],
 "metadata": {
  "kernelspec": {
   "display_name": "Python 3",
   "language": "python",
   "name": "python3"
  },
  "language_info": {
   "codemirror_mode": {
    "name": "ipython",
    "version": 3
   },
   "file_extension": ".py",
   "mimetype": "text/x-python",
   "name": "python",
   "nbconvert_exporter": "python",
   "pygments_lexer": "ipython3",
   "version": "3.10.7"
  },
  "orig_nbformat": 4,
  "vscode": {
   "interpreter": {
    "hash": "916dbcbb3f70747c44a77c7bcd40155683ae19c65e1c03b4aa3499c5328201f1"
   }
  }
 },
 "nbformat": 4,
 "nbformat_minor": 2
}
