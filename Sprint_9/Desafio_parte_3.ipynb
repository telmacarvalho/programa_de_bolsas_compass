{
 "cells": [
  {
   "attachments": {},
   "cell_type": "markdown",
   "metadata": {},
   "source": [
    "# Desafio Parte 3"
   ]
  },
  {
   "attachments": {},
   "cell_type": "markdown",
   "metadata": {},
   "source": [
    "## Tarefa 3: Processamento da Trusted"
   ]
  },
  {
   "cell_type": "code",
   "execution_count": null,
   "metadata": {},
   "outputs": [],
   "source": [
    "import sys\n",
    "from awsglue.transforms import *\n",
    "from awsglue.utils import getResolvedOptions\n",
    "from pyspark.context import SparkContext\n",
    "from awsglue.context import GlueContext\n",
    "from awsglue.dynamicframe import DynamicFrame\n",
    "\n",
    "## Define o bucket S3 de origem e o caminho do arquivo para os dados JSON\n",
    "source_bucket = \"data-lake-da-telma\"\n",
    "source_file_path = \"Raw/TMDB/JSON/Superhero/2023/04/13/superhero.json\"\n",
    "collection_date = \"2023/04/13\"\n",
    "\n",
    "\n",
    "## Crea GlueContext e SparkContext\n",
    "sc = SparkContext()\n",
    "glueContext = GlueContext(sc)\n",
    "\n",
    "## Crea a DynamicFrame dos dados de origem no formato JSON\n",
    "source_dyf = glueContext.create_dynamic_frame_from_options(\n",
    "    \"s3\",\n",
    "    {\"paths\": [f\"s3://{source_bucket}/{source_file_path}\"]},\n",
    "    \"json\"\n",
    ")\n",
    "\n",
    "## Define o bucket S3 de destino e o caminho do arquivo para os dados do Parquet na zona Truested\n",
    "destination_bucket = \"data-lake-da-telma\"\n",
    "destination_file_path = f\"Trusted/{collection_date}.parquet\"\n",
    "\n",
    "## Converte DynamicFrame em um DataFrame\n",
    "source_df = source_dyf.toDF()\n",
    "\n",
    "## Converte o DataFrame em um DynamicFrame no formato Parquet\n",
    "destination_dyf = DynamicFrame.fromDF(\n",
    "    source_df,\n",
    "    glueContext,\n",
    "    \"parquet\"\n",
    ")\n",
    "\n",
    "## Salva o DynamicFrame no formato Parquet no bucket S3 de destino com caminho do arquivo na zona trusted\n",
    "glueContext.write_dynamic_frame.from_options(\n",
    "    frame = destination_dyf,\n",
    "    connection_type = \"s3\",\n",
    "    connection_options = {\"path\": f\"s3://{destination_bucket}/{destination_file_path}\"},\n",
    "    format = \"parquet\"\n",
    ")\n"
   ]
  }
 ],
 "metadata": {
  "kernelspec": {
   "display_name": "Python 3",
   "language": "python",
   "name": "python3"
  },
  "language_info": {
   "name": "python",
   "version": "3.11.2"
  },
  "orig_nbformat": 4
 },
 "nbformat": 4,
 "nbformat_minor": 2
}
