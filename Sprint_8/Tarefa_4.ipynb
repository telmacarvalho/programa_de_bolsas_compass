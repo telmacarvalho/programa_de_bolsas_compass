{
 "cells": [
  {
   "attachments": {},
   "cell_type": "markdown",
   "metadata": {},
   "source": [
    "# Geração de massa de dados"
   ]
  },
  {
   "attachments": {},
   "cell_type": "markdown",
   "metadata": {},
   "source": [
    "## Intruções"
   ]
  },
  {
   "attachments": {},
   "cell_type": "markdown",
   "metadata": {},
   "source": [
    "Desenvolva o código localmente utilizando o editor de sua preferência. Ao concluir, adicione os artefatos de código ao seu repositório no Github para avaliação do monitor(a) da Sprint.\n",
    "\n",
    "Lembre-se que as tarefas são pré-requisitos para a execução do laboratório de Apache Spark na sequência. Não esperamos que você registre resposta neste espaço. **Contudo, deves adicionar o código-fonte produzido ao seu repositório no Github** para posterior avaliação pelo monitor(a)."
   ]
  },
  {
   "attachments": {},
   "cell_type": "markdown",
   "metadata": {},
   "source": [
    "## Etapa 1"
   ]
  },
  {
   "attachments": {},
   "cell_type": "markdown",
   "metadata": {},
   "source": [
    "Em Python, declare e inicialize uma lista contendo 250 inteiros obtidos de forma aleatória. Após, aplicar o método reverse sobre o conteúdo da lista e imprimir o resultado."
   ]
  },
  {
   "attachments": {},
   "cell_type": "markdown",
   "metadata": {},
   "source": [
    "### Código"
   ]
  },
  {
   "cell_type": "code",
   "execution_count": 43,
   "metadata": {},
   "outputs": [
    {
     "name": "stdout",
     "output_type": "stream",
     "text": [
      "[125, 443, 387, 862, 684, 51, 541, 973, 311, 804, 249, 411, 894, 548, 339, 476, 220, 927, 174, 326, 347, 659, 957, 843, 685, 628, 921, 192, 935, 51, 635, 518, 362, 326, 532, 678, 24, 152, 663, 349, 799, 416, 382, 585, 530, 538, 965, 651, 427, 196, 451, 819, 504, 29, 63, 365, 710, 901, 138, 516, 909, 239, 878, 990, 139, 378, 266, 97, 260, 32, 505, 723, 808, 999, 924, 214, 935, 244, 53, 499, 828, 975, 341, 951, 142, 570, 936, 534, 703, 289, 639, 319, 360, 206, 652, 82, 83, 463, 544, 730, 479, 188, 406, 384, 596, 889, 742, 227, 622, 382, 827, 650, 928, 999, 868, 509, 341, 943, 703, 770, 894, 358, 454, 581, 790, 733, 813, 317, 839, 237, 486, 789, 469, 845, 750, 526, 460, 244, 273, 863, 793, 182, 71, 724, 854, 422, 723, 26, 680, 554, 976, 577, 766, 796, 244, 576, 525, 657, 418, 576, 274, 944, 382, 212, 8, 675, 384, 668, 305, 991, 346, 851, 357, 953, 46, 776, 955, 333, 432, 550, 434, 597, 913, 813, 398, 149, 667, 683, 334, 603, 573, 157, 693, 983, 811, 345, 60, 255, 783, 697, 35, 176, 109, 479, 871, 716, 41, 379, 461, 682, 686, 836, 601, 800, 282, 120, 456, 257, 431, 31, 459, 809, 321, 603, 11, 280, 331, 716, 128, 782, 539, 797, 515, 22, 779, 44, 543, 67, 774, 578, 514, 314, 933, 877, 934, 126, 372, 377, 322, 983]\n"
     ]
    }
   ],
   "source": [
    "import random\n",
    "\n",
    "# Gera uma lista de 250 inteiros aleatórios\n",
    "numbers = [random.randint(1, 1000) for i in range(250)]\n",
    "\n",
    "# Inverte a ordem da lista e imprime o resultado\n",
    "numbers.reverse()\n",
    "print(numbers)"
   ]
  },
  {
   "attachments": {},
   "cell_type": "markdown",
   "metadata": {},
   "source": [
    "## Etapa 2"
   ]
  },
  {
   "attachments": {},
   "cell_type": "markdown",
   "metadata": {},
   "source": [
    "Em Python, declare e inicialize uma lista contendo o nome de 20 animais. Ordene-os em ordem crescente e itere sobre os itens, imprimindo um a um (você pode utilizar list comprehension aqui).  Na sequência, armazene o conteúdo da lista em um arquivo de texto, um item em cada linha, no formato CSV."
   ]
  },
  {
   "attachments": {},
   "cell_type": "markdown",
   "metadata": {},
   "source": [
    "### Código"
   ]
  },
  {
   "cell_type": "code",
   "execution_count": 4,
   "metadata": {},
   "outputs": [
    {
     "name": "stdout",
     "output_type": "stream",
     "text": [
      "aranha\n",
      "baleia\n",
      "beija-flor\n",
      "boi\n",
      "cachorro\n",
      "cavalo\n",
      "cobra\n",
      "elefante\n",
      "galinha\n",
      "gato\n",
      "golfinho\n",
      "lagartixa\n",
      "lagarto\n",
      "macaco\n",
      "ovelha\n",
      "polvo\n",
      "rato\n",
      "rinoceronte\n",
      "tubarão\n",
      "zebra\n"
     ]
    }
   ],
   "source": [
    "# Gera uma lista de animais\n",
    "animals = ['gato', 'cachorro', 'rato', 'cavalo', 'ovelha', 'galinha', 'beija-flor', 'lagarto', 'aranha', 'tubarão', 'polvo', 'golfinho', 'baleia', 'boi', 'lagartixa', 'cobra', 'macaco', 'zebra', 'rinoceronte', 'elefante']\n",
    "# Ordena a lista em ordem crescente\n",
    "animals.sort()\n",
    "# Imprime cada item da lista\n",
    "for animal in animals: print(animal)"
   ]
  },
  {
   "attachments": {},
   "cell_type": "markdown",
   "metadata": {},
   "source": [
    "## Etapa 3"
   ]
  },
  {
   "attachments": {},
   "cell_type": "markdown",
   "metadata": {},
   "source": [
    "Elaborar um código Python para gerar um dataset de nomes de pessoas. Siga os passos a seguir para realizar a atividade:"
   ]
  },
  {
   "attachments": {},
   "cell_type": "markdown",
   "metadata": {},
   "source": [
    "### Passo 1"
   ]
  },
  {
   "attachments": {},
   "cell_type": "markdown",
   "metadata": {},
   "source": [
    "Instalar biblioteca names para geração de nomes aleatórios. O comando de instalação é pip install names"
   ]
  },
  {
   "attachments": {},
   "cell_type": "markdown",
   "metadata": {},
   "source": [
    "### Passo 2"
   ]
  },
  {
   "attachments": {},
   "cell_type": "markdown",
   "metadata": {},
   "source": [
    "Importar as bibliotecas random, time, os e names em seu código"
   ]
  },
  {
   "attachments": {},
   "cell_type": "markdown",
   "metadata": {},
   "source": [
    "### Passo 3"
   ]
  },
  {
   "attachments": {},
   "cell_type": "markdown",
   "metadata": {},
   "source": [
    "Definir os parâmetros para geração do dataset, ou seja, a quantidades de nomes aleatórios e a quantidade de nomes que devem ser únicos.\n",
    "\n",
    "```\n",
    "t0 = time.time()\n",
    "\n",
    "# Define a semente de aleatoriedade\n",
    "\n",
    "random.seed(40)\n",
    "\n",
    "qtd_nomes_unicos = 3000\n",
    "\n",
    "qtd_nomes_aleatorios = 10000000\n",
    "```\n",
    "\n",
    "\n",
    "Nota: Quando trabalhamos com números randômicos em computação, na realidade, estamos falando de valores pseudoaleatórios, uma vez que o computador não consegue gerar números verdadeiramente aleatórios. No caso do Python, a função random.seed inicializa o algoritmo responsável pela geração de valores randômicos. É um processo determinístico,  pois os valores gerados serão sempre os mesmos se utilizado a mesma configuração de inicialização. A este número inicial chamamos de semente de aleatoriedade.\n",
    "\n"
   ]
  },
  {
   "attachments": {},
   "cell_type": "markdown",
   "metadata": {},
   "source": [
    "### Passo 4"
   ]
  },
  {
   "attachments": {},
   "cell_type": "markdown",
   "metadata": {},
   "source": [
    "Gerar os nomes aleatórios.\n",
    "\n",
    "```\n",
    "aux=[]\n",
    "\n",
    "for i in range(0, qtd_nomes_unicos):\n",
    "\n",
    "    aux.append(names.get_full_name())\n",
    "\n",
    "\n",
    "\n",
    "print(\"Gerando {} nomes aleatórios\".format(qtd_nomes_aleatorios))\n",
    "\n",
    "dados=[]\n",
    "\n",
    "\n",
    "\n",
    "for i in range(0,qtd_nomes_aleatorios):\n",
    "\n",
    "    dados.append(random.choice(aux))```"
   ]
  },
  {
   "attachments": {},
   "cell_type": "markdown",
   "metadata": {},
   "source": [
    "### Passo 5"
   ]
  },
  {
   "attachments": {},
   "cell_type": "markdown",
   "metadata": {},
   "source": [
    "Gerar um arquivo de texto contendo todos os nomes, um a cada linha. O nome do arquivo deve ser nomes_aleatorios.txt"
   ]
  },
  {
   "attachments": {},
   "cell_type": "markdown",
   "metadata": {},
   "source": [
    "### Passo 6"
   ]
  },
  {
   "attachments": {},
   "cell_type": "markdown",
   "metadata": {},
   "source": [
    "Abrir o arquivo e verificar seu conteúdo (editor de texto)"
   ]
  }
 ],
 "metadata": {
  "kernelspec": {
   "display_name": "Python 3",
   "language": "python",
   "name": "python3"
  },
  "language_info": {
   "codemirror_mode": {
    "name": "ipython",
    "version": 3
   },
   "file_extension": ".py",
   "mimetype": "text/x-python",
   "name": "python",
   "nbconvert_exporter": "python",
   "pygments_lexer": "ipython3",
   "version": "3.10.7"
  },
  "orig_nbformat": 4
 },
 "nbformat": 4,
 "nbformat_minor": 2
}
