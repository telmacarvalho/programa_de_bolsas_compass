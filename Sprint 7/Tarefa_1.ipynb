{
 "cells": [
  {
   "attachments": {},
   "cell_type": "markdown",
   "metadata": {},
   "source": [
    "# Python com Pandas e Numpy"
   ]
  },
  {
   "attachments": {},
   "cell_type": "markdown",
   "metadata": {},
   "source": [
    "Leia o arquivo actors.csv e codifique os cálculos solicitados sobre o conjunto de dados utilizando a biblioteca Pandas. Adicione apenas a resposta da questões nos espaços indicados. Seu código-fonte deverá estar no Github.\n",
    "\n",
    "**Perguntas dessa tarefa**\n",
    "\n",
    "1. Identifique o ator/atriz com maior número de filmes e o respectivo número de filmes.\n",
    "\n",
    "2. Apresente a média da coluna contendo o número de filmes.\n",
    "\n",
    "\n",
    "3. Apresente o nome do ator/atriz com a maior média por filme.\n",
    "\n",
    "\n",
    "4. Apresente o nome do(s) filme(s) mais frequente(s) e sua respectiva frequência.\n",
    "\n"
   ]
  },
  {
   "attachments": {},
   "cell_type": "markdown",
   "metadata": {},
   "source": [
    "### 1. Identifique o ator/atriz com maior número de filmes e o respectivo número de filmes."
   ]
  },
  {
   "cell_type": "code",
   "execution_count": 35,
   "metadata": {},
   "outputs": [],
   "source": [
    "# Ordena por maior número de filmes\n",
    "actors_number_movies = data.sort_values(by='Number of Movies', ascending=False)\n",
    "\n",
    "# Armazena nome e número de filmes em variáveis\n",
    "name = actors_number_movies.iat[0,0]\n",
    "number_movies = actors_number_movies.iat[0,2]\n",
    "result_ex_1 = f'{name} é o(a) ator/atriz com maior número de filmes com um total de {number_movies} filmes.'"
   ]
  },
  {
   "attachments": {},
   "cell_type": "markdown",
   "metadata": {},
   "source": [
    "### 2. Apresente a média da coluna contendo o número de filmes."
   ]
  },
  {
   "cell_type": "code",
   "execution_count": 38,
   "metadata": {},
   "outputs": [
    {
     "name": "stdout",
     "output_type": "stream",
     "text": [
      "A média da coluna contendo o número de filmes é 37.88.\n"
     ]
    }
   ],
   "source": [
    "# Amazena a média do número de filmes em uma varíavel\n",
    "mean_number_movies = data['Number of Movies'].mean()\n",
    "result_ex_2 = f'A média da coluna contendo o número de filmes é {mean_number_movies}.'"
   ]
  },
  {
   "cell_type": "markdown",
   "metadata": {},
   "source": []
  }
 ],
 "metadata": {
  "kernelspec": {
   "display_name": "Python 3",
   "language": "python",
   "name": "python3"
  },
  "language_info": {
   "codemirror_mode": {
    "name": "ipython",
    "version": 3
   },
   "file_extension": ".py",
   "mimetype": "text/x-python",
   "name": "python",
   "nbconvert_exporter": "python",
   "pygments_lexer": "ipython3",
   "version": "3.10.7"
  },
  "orig_nbformat": 4
 },
 "nbformat": 4,
 "nbformat_minor": 2
}
