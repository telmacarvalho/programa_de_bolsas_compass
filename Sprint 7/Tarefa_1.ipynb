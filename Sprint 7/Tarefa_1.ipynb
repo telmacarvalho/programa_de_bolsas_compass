{
 "cells": [
  {
   "attachments": {},
   "cell_type": "markdown",
   "metadata": {},
   "source": [
    "# Python com Pandas e Numpy"
   ]
  },
  {
   "attachments": {},
   "cell_type": "markdown",
   "metadata": {},
   "source": [
    "Leia o arquivo actors.csv e codifique os cálculos solicitados sobre o conjunto de dados utilizando a biblioteca Pandas. Adicione apenas a resposta da questões nos espaços indicados. Seu código-fonte deverá estar no Github.\n",
    "\n",
    "##  Perguntas dessa tarefa"
   ]
  },
  {
   "cell_type": "code",
   "execution_count": 1,
   "metadata": {},
   "outputs": [],
   "source": [
    "import pandas as pd\n",
    "import numpy as np\n",
    "\n",
    "# Abre o arquivo csv e armazena dataframe\n",
    "actors = pd.read_csv('actors.csv', sep=',')\n",
    "data = pd.DataFrame(actors)"
   ]
  },
  {
   "attachments": {},
   "cell_type": "markdown",
   "metadata": {},
   "source": [
    "### 1. Identifique o ator/atriz com maior número de filmes e o respectivo número de filmes."
   ]
  },
  {
   "cell_type": "code",
   "execution_count": 9,
   "metadata": {},
   "outputs": [
    {
     "name": "stdout",
     "output_type": "stream",
     "text": [
      "Robert DeNiro é o(a) ator/atriz com maior número de filmes com um total de 79 filmes.\n"
     ]
    }
   ],
   "source": [
    "# Ordena por maior número de filmes\n",
    "actors_number_movies = data.sort_values(by='Number of Movies', ascending=False)\n",
    "\n",
    "# Armazena nome e número de filmes em variáveis\n",
    "name = actors_number_movies.iat[0,0]\n",
    "number_movies = actors_number_movies.iat[0,2]\n",
    "result_ex_1 = f'{name} é o(a) ator/atriz com maior número de filmes com um total de {number_movies} filmes.'\n",
    "\n",
    "print(result_ex_1)"
   ]
  },
  {
   "attachments": {},
   "cell_type": "markdown",
   "metadata": {},
   "source": [
    "### 2. Apresente a média da coluna contendo o número de filmes."
   ]
  },
  {
   "cell_type": "code",
   "execution_count": 10,
   "metadata": {},
   "outputs": [
    {
     "name": "stdout",
     "output_type": "stream",
     "text": [
      "A média da coluna contendo o número de filmes é 37.88.\n"
     ]
    }
   ],
   "source": [
    "# Amazena a média do número de filmes em uma varíavel\n",
    "mean_number_movies = data['Number of Movies'].mean()\n",
    "result_ex_2 = f'A média da coluna contendo o número de filmes é {mean_number_movies}.'\n",
    "\n",
    "print(result_ex_2)"
   ]
  },
  {
   "attachments": {},
   "cell_type": "markdown",
   "metadata": {},
   "source": [
    "### 3. Apresente o nome do ator/atriz com a maior média por filme."
   ]
  },
  {
   "cell_type": "code",
   "execution_count": 11,
   "metadata": {},
   "outputs": [
    {
     "name": "stdout",
     "output_type": "stream",
     "text": [
      "Anthony Daniels é o(a) ator/atriz com a maior média por filme.\n"
     ]
    }
   ],
   "source": [
    "# Ordena por maior média por filme\n",
    "actors_average_movie = data.sort_values(by='Average per Movie', ascending=False)\n",
    "\n",
    "# Armazena nome e a média por filme em variáveis\n",
    "name = actors_average_movie.iat[0,0]\n",
    "average_movie = actors_average_movie.iat[0,3]\n",
    "result_ex_3 = f'{name} é o(a) ator/atriz com a maior média por filme.'\n",
    "\n",
    "print(result_ex_3)"
   ]
  },
  {
   "attachments": {},
   "cell_type": "markdown",
   "metadata": {},
   "source": [
    "### 4. Apresente o nome do(s) filme(s) mais frequente(s) e sua respectiva frequência."
   ]
  },
  {
   "cell_type": "code",
   "execution_count": 3,
   "metadata": {},
   "outputs": [
    {
     "name": "stdout",
     "output_type": "stream",
     "text": [
      "The Avengers é o nome do(s) filme(s) mais frequente(s) e sua respectiva frequência é 6.\n"
     ]
    }
   ],
   "source": [
    "# Calcula a quantidade de repetições de cada filme\n",
    "frequency_movies = data['#1 Movie'].value_counts()\n",
    "\n",
    "# Acessa e armazena o nome e número de filmes em variáveis\n",
    "movie = frequency_movies.index[0]\n",
    "quantity = frequency_movies[0]\n",
    "result_ex_4 = f'{movie} é o nome do(s) filme(s) mais frequente(s) e sua respectiva frequência é {quantity}.'\n",
    "\n",
    "print(result_ex_4)"
   ]
  },
  {
   "attachments": {},
   "cell_type": "markdown",
   "metadata": {},
   "source": [
    "Forma alternativa de script para uma interpretação diferente:"
   ]
  },
  {
   "cell_type": "code",
   "execution_count": 5,
   "metadata": {},
   "outputs": [
    {
     "name": "stdout",
     "output_type": "stream",
     "text": [
      "O filme The Avengers se repete 6 vez(es).\n",
      "O filme Catching Fire se repete 4 vez(es).\n",
      "O filme Harry Potter / Deathly Hallows (P2) se repete 4 vez(es).\n",
      "O filme The Dark Knight se repete 3 vez(es).\n",
      "O filme Meet the Fockers se repete 3 vez(es).\n",
      "O filme Star Wars: The Force Awakens se repete 3 vez(es).\n",
      "O filme Return of the King se repete 2 vez(es).\n",
      "O filme Dead Man's Chest se repete 2 vez(es).\n",
      "O filme Avengers: Age of Ultron se repete 2 vez(es).\n",
      "O filme Night at the Museum se repete 2 vez(es).\n",
      "O filme Shrek 2 se repete 2 vez(es).\n",
      "O filme American Sniper se repete 1 vez(es).\n",
      "O filme Titanic se repete 1 vez(es).\n",
      "O filme The Phantom Menace se repete 1 vez(es).\n",
      "O filme The LEGO Movie se repete 1 vez(es).\n",
      "O filme Toy Story 3 se repete 1 vez(es).\n",
      "O filme Transformers 4 se repete 1 vez(es).\n",
      "O filme War of the Worlds se repete 1 vez(es).\n",
      "O filme The Martian se repete 1 vez(es).\n",
      "O filme Sixth Sense se repete 1 vez(es).\n",
      "O filme The Grinch se repete 1 vez(es).\n",
      "O filme The Dark Knight Rises se repete 1 vez(es).\n",
      "O filme Ocean's Eleven se repete 1 vez(es).\n",
      "O filme Minions se repete 1 vez(es).\n",
      "O filme Men in Black se repete 1 vez(es).\n",
      "O filme Independence Day se repete 1 vez(es).\n",
      "O filme Hotel Transylvania 2 se repete 1 vez(es).\n",
      "O filme World War Z se repete 1 vez(es).\n"
     ]
    }
   ],
   "source": [
    "# Agrupa e conta quantas vezes cada um dos filmes aparece\n",
    "movie = data.groupby(\"#1 Movie\")['#1 Movie'].count()\n",
    "# Organiza em ordem crescente\n",
    "movie = movie.sort_values(ascending=False)\n",
    "\n",
    "for i in range(0, len(movie.index)):\n",
    "  print(f'O filme {movie.index[i]} se repete {movie.values[i]} vez(es).')"
   ]
  },
  {
   "cell_type": "code",
   "execution_count": null,
   "metadata": {},
   "outputs": [],
   "source": []
  }
 ],
 "metadata": {
  "kernelspec": {
   "display_name": "Python 3",
   "language": "python",
   "name": "python3"
  },
  "language_info": {
   "codemirror_mode": {
    "name": "ipython",
    "version": 3
   },
   "file_extension": ".py",
   "mimetype": "text/x-python",
   "name": "python",
   "nbconvert_exporter": "python",
   "pygments_lexer": "ipython3",
   "version": "3.10.7"
  },
  "orig_nbformat": 4
 },
 "nbformat": 4,
 "nbformat_minor": 2
}
