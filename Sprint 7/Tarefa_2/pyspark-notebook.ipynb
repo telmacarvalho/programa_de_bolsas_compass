{
 "cells": [
  {
   "cell_type": "code",
   "execution_count": 1,
   "id": "cc4be34c-1cd5-4d9a-8953-f8980549bb0c",
   "metadata": {
    "tags": []
   },
   "outputs": [],
   "source": [
    "import pyspark"
   ]
  },
  {
   "cell_type": "code",
   "execution_count": 2,
   "id": "d71397d4-ff88-4fff-b946-9fcd4c0ee693",
   "metadata": {},
   "outputs": [],
   "source": [
    "from pyspark.sql import SparkSession"
   ]
  },
  {
   "cell_type": "code",
   "execution_count": 3,
   "id": "9dd03831-0ac8-42fc-b057-86df262d1afe",
   "metadata": {
    "tags": []
   },
   "outputs": [],
   "source": [
    "from pyspark.sql.functions import *"
   ]
  },
  {
   "cell_type": "code",
   "execution_count": 4,
   "id": "217440e4-9608-4a18-a0c0-da1a36a903d8",
   "metadata": {
    "tags": []
   },
   "outputs": [],
   "source": [
    "spark = SparkSession.builder.master(\"local\").getOrCreate()"
   ]
  },
  {
   "cell_type": "code",
   "execution_count": 5,
   "id": "aba1e978-714d-47d6-b52e-76966f91f3ba",
   "metadata": {
    "tags": []
   },
   "outputs": [],
   "source": [
    "text = spark.read.text(\"README.md\")"
   ]
  },
  {
   "cell_type": "code",
   "execution_count": 6,
   "id": "5eb197c4-885b-4489-964b-f375d612c11f",
   "metadata": {
    "tags": []
   },
   "outputs": [],
   "source": [
    "text = text.filter(col('value') != '')"
   ]
  },
  {
   "cell_type": "code",
   "execution_count": 7,
   "id": "0ca25c63-4d8b-42e2-80e2-a7f8c291dfdb",
   "metadata": {
    "tags": []
   },
   "outputs": [],
   "source": [
    "text = text.withColumn('count', size(split(col('value'), '\\s+')))"
   ]
  },
  {
   "cell_type": "code",
   "execution_count": 8,
   "id": "2a50ee96-89f9-478a-ba55-a6f880ef042a",
   "metadata": {
    "tags": []
   },
   "outputs": [],
   "source": [
    "text = text.select(sum('count'))"
   ]
  },
  {
   "cell_type": "code",
   "execution_count": 9,
   "id": "e11244f2-4529-4a01-9938-022af6fc9b8a",
   "metadata": {
    "tags": []
   },
   "outputs": [],
   "source": [
    "result = text.collect()[0][0]"
   ]
  },
  {
   "cell_type": "code",
   "execution_count": 10,
   "id": "f9f1c869-971c-4a4e-9f07-469e68096a19",
   "metadata": {
    "tags": []
   },
   "outputs": [
    {
     "name": "stdout",
     "output_type": "stream",
     "text": [
      "426\n"
     ]
    }
   ],
   "source": [
    "print(result)"
   ]
  },
  {
   "cell_type": "code",
   "execution_count": null,
   "id": "8beefb07-4e52-4e6b-a802-faef63e93d75",
   "metadata": {},
   "outputs": [],
   "source": []
  }
 ],
 "metadata": {
  "kernelspec": {
   "display_name": "Python 3 (ipykernel)",
   "language": "python",
   "name": "python3"
  },
  "language_info": {
   "codemirror_mode": {
    "name": "ipython",
    "version": 3
   },
   "file_extension": ".py",
   "mimetype": "text/x-python",
   "name": "python",
   "nbconvert_exporter": "python",
   "pygments_lexer": "ipython3",
   "version": "3.10.9"
  }
 },
 "nbformat": 4,
 "nbformat_minor": 5
}
